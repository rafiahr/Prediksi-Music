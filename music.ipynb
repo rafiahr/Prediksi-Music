{
 "cells": [
  {
   "cell_type": "code",
   "execution_count": 1,
   "id": "08af02ce-8d10-4cbe-ae5d-7cb904afaf8d",
   "metadata": {},
   "outputs": [],
   "source": [
    "import pandas as pd\n",
    "from sklearn.linear_model import LinearRegression\n",
    "from sklearn.model_selection import train_test_split\n",
    "from sklearn.preprocessing import StandardScaler\n",
    "import joblib"
   ]
  },
  {
   "cell_type": "code",
   "execution_count": 3,
   "id": "11b92915-4bc6-4972-b3be-7800fdccc6a4",
   "metadata": {},
   "outputs": [],
   "source": [
    "# 1. Baca dataset\n",
    "df = pd.read_csv(\"Documents/prediksi music/data/SpotifyFeatures.csv\")  # pastikan file ada di folder yang sama\n"
   ]
  },
  {
   "cell_type": "code",
   "execution_count": 4,
   "id": "213b4b46-ebc9-4c27-adcb-a605aeb7084c",
   "metadata": {},
   "outputs": [],
   "source": [
    "# 2. Pilih fitur dan target\n",
    "features = [\n",
    "    'acousticness', 'danceability', 'duration_ms', 'energy',\n",
    "    'instrumentalness', 'liveness', 'loudness', 'speechiness',\n",
    "    'tempo', 'valence'\n",
    "]\n",
    "X = df[features]\n",
    "y = df['popularity']"
   ]
  },
  {
   "cell_type": "code",
   "execution_count": 5,
   "id": "62728986-9a0c-4a88-871e-e7714a7e759d",
   "metadata": {},
   "outputs": [],
   "source": [
    "# 3. Standarisasi\n",
    "scaler = StandardScaler()\n",
    "X_scaled = scaler.fit_transform(X)\n",
    "\n",
    "# 4. Split data\n",
    "X_train, X_test, y_train, y_test = train_test_split(X_scaled, y, test_size=0.2, random_state=42)"
   ]
  },
  {
   "cell_type": "code",
   "execution_count": 6,
   "id": "570ee725-a0cf-4444-8191-d140526104f6",
   "metadata": {},
   "outputs": [
    {
     "data": {
      "text/plain": [
       "['model/linreg_model.pkl']"
      ]
     },
     "execution_count": 6,
     "metadata": {},
     "output_type": "execute_result"
    }
   ],
   "source": [
    "# 5. Latih model\n",
    "model = LinearRegression()\n",
    "model.fit(X_train, y_train)\n",
    "\n",
    "# 6. Simpan model ke file\n",
    "joblib.dump(model, \"model/linreg_model.pkl\")"
   ]
  },
  {
   "cell_type": "code",
   "execution_count": null,
   "id": "91d2111d-c727-44dc-acbc-8161106bbe52",
   "metadata": {},
   "outputs": [],
   "source": []
  }
 ],
 "metadata": {
  "kernelspec": {
   "display_name": "Python 3 (ipykernel)",
   "language": "python",
   "name": "python3"
  },
  "language_info": {
   "codemirror_mode": {
    "name": "ipython",
    "version": 3
   },
   "file_extension": ".py",
   "mimetype": "text/x-python",
   "name": "python",
   "nbconvert_exporter": "python",
   "pygments_lexer": "ipython3",
   "version": "3.13.3"
  }
 },
 "nbformat": 4,
 "nbformat_minor": 5
}
